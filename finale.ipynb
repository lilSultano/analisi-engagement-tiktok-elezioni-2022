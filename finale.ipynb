{
 "cells": [
  {
   "cell_type": "code",
   "execution_count": 726,
   "id": "bfda4f56-bf0a-4f3b-a5f5-2400f7bfa6b0",
   "metadata": {
    "editable": true,
    "slideshow": {
     "slide_type": "skip"
    },
    "tags": []
   },
   "outputs": [],
   "source": [
    "%matplotlib inline\n",
    "import pandas as pd\n",
    "import numpy as np\n",
    "import warnings\n",
    "warnings.filterwarnings('ignore')\n",
    "\n",
    "# 📊 Visualizzazione\n",
    "import matplotlib.pyplot as plt\n",
    "import seaborn as sns\n",
    "import plotly.express as px\n",
    "import plotly.graph_objects as go\n",
    "from plotly.subplots import make_subplots\n",
    "import plotly.io as pio\n",
    "import plotly.offline as pyo\n",
    "\n",
    "# 🧠 Modelli e metriche\n",
    "from sklearn.linear_model import LinearRegression\n",
    "from sklearn.model_selection import train_test_split\n",
    "from sklearn.metrics import r2_score, mean_squared_error\n",
    "from scipy.stats import pearsonr\n",
    "from scipy import stats\n",
    "\n",
    "# 🧹 Preprocessing\n",
    "from sklearn.preprocessing import StandardScaler\n",
    "from sklearn.pipeline import Pipeline\n",
    "\n",
    "# 📆 Gestione date\n",
    "import datetime\n",
    "from datetime import datetime, timedelta\n",
    "\n",
    "# 🎨 Configurazione plot\n",
    "sns.set_theme(context='notebook', style='whitegrid', palette='tab10')\n",
    "plt.rcParams['figure.figsize'] = (12, 8)\n",
    "plt.rcParams['font.size'] = 10\n",
    "\n",
    "df_social_finale = pd.read_csv(\"src/output-data/social_data_con_nomi_reali.csv\", encoding=\"utf-8\")\n",
    "merged_data = pd.read_csv('src/output-data/merged_data.csv')\n",
    "df_election = pd.read_csv(\"datasets/Politiche2022_Scrutini_Camera_Italia.csv\", encoding=\"utf-8\")\n",
    "social_data_mapped = df_social_finale.copy()\n",
    "\n"
   ]
  },
  {
   "cell_type": "raw",
   "id": "3ec08d1f-132d-47b2-acfb-30b5d18bae4f",
   "metadata": {},
   "source": [
    "<style>\n",
    "div.input {display:none;}\n",
    "</style>"
   ]
  },
  {
   "cell_type": "code",
   "execution_count": 6,
   "id": "78f4a6dc",
   "metadata": {
    "editable": true,
    "slideshow": {
     "slide_type": "slide"
    },
    "tags": []
   },
   "outputs": [
    {
     "data": {
      "text/html": [
       "<link rel=\"stylesheet\" type=\"text/css\" href=\"style.css\">\n"
      ],
      "text/plain": [
       "<IPython.core.display.HTML object>"
      ]
     },
     "metadata": {},
     "output_type": "display_data"
    }
   ],
   "source": [
    "%%HTML\n",
    "<link rel=\"stylesheet\" type=\"text/css\" href=\"style.css\">"
   ]
  },
  {
   "cell_type": "markdown",
   "id": "5e402911",
   "metadata": {
    "editable": true,
    "slideshow": {
     "slide_type": "slide"
    },
    "tags": []
   },
   "source": [
    "<p class=\"sub\">166932 &mdash; Zahid Mehdi</p>\n",
    "<h1><b>Analisi dell'impatto dell'attività TikTok sui risultati elettorali italiani del 2022</b></h1>\n",
    "<p class=\"sub\">10/07/2025 &mdash; Università degli Studi di Udine</p>"
   ]
  },
  {
   "cell_type": "markdown",
   "id": "faf33625",
   "metadata": {
    "editable": true,
    "slideshow": {
     "slide_type": "slide"
    },
    "tags": []
   },
   "source": [
    "<h2><b>Il progetto in breve</b></h2>\n",
    "\n",
    "<div style=\"display: flex; flex-wrap: wrap; gap: 40px; align-items: flex-start; margin-top: 20px;\">\n",
    "\n",
    "  <div style=\"flex: 1 1 55%; min-width: 300px;\">\n",
    "    <ul style=\"font-size: 16px; line-height: 1.6;\">\n",
    "      <li><strong>Analisi TikTok</strong>: Studio dell'attività TikTok dei politici italiani durante le elezioni 2022</li>\n",
    "      <li><strong>Mappatura avanzata</strong>: 74 politici mappati tramite fuzzy matching (username → nomi reali → partiti)</li>\n",
    "      <li><strong>Dataset finale</strong>: 220 video TikTok analizzati con metriche complete di engagement</li>\n",
    "      <li><strong>Modello predittivo</strong>: Correlazione significativa (r=0.833, p=0.010) tra attività TikTok e voti</li>\n",
    "      <li><strong>Risultato chiave</strong>: 93.3% della varianza nei voti spiegata dal modello multivariato</li>\n",
    "    </ul>\n",
    "  </div>\n",
    "\n",
    "  <div style=\"flex: 1 1 40%; min-width: 250px; text-align: center;\">\n",
    "    <img src=\"src/img/2022-speciale-elezioni-politiche.png\" alt=\"Elezioni\" style=\"max-width: 100%; width: 220px; height: auto; margin-bottom: 20px;\">\n",
    "    <br>\n",
    "    <img src=\"src/img/tiktok-logo.png\" alt=\"TikTok\" style=\"max-width: 100%; width: 80px; height: auto;\">\n",
    "  </div>\n",
    "\n",
    "</div>"
   ]
  },
  {
   "cell_type": "markdown",
   "id": "2f0f19c8",
   "metadata": {
    "editable": true,
    "slideshow": {
     "slide_type": "slide"
    },
    "tags": []
   },
   "source": [
    "<h2><b>Cosa vorrei scoprire?</b></h2>\n",
    "<ol>\n",
    "    <li>Come si distribuiscono le metriche tik tok nelle elezioni</li>\n",
    "    <li>Quali sono i Top performer</li>\n",
    "    <li>Quale metrica TikTok è più predittiva dei voti?</li>\n",
    "    <li>È possibile scoprire in anticipo il risultato elettorale</li>\n",
    "</ol>"
   ]
  },
  {
   "cell_type": "markdown",
   "id": "18b1600f",
   "metadata": {
    "editable": true,
    "slideshow": {
     "slide_type": "slide"
    },
    "tags": []
   },
   "source": [
    "<div class=\"container\">\n",
    "<div class=\"left\">\n",
    "<h2>Metodologia e dati</h2>\n",
    "  <p><strong>Pipeline di analisi:</strong></p>\n",
    "  <ol>\n",
    "    <li>Data Engineering: Fuzzy matching username → politici → partiti (threshold 70%)</li>\n",
    "    <li>Costruzione del dataset finale</li>\n",
    "    <li>Analisi statistica: Correlazioni, regressione lineare, test di significatività</li>\n",
    "    <li>Validazione: Test normalità residui, cross-validation, controlli qualità</li>\n",
    "  </ol>\n",
    "\n",
    "  <p><strong>Metriche TikTok analizzate:</strong></p>\n",
    "  <ul>\n",
    "    <li>Numero di post pubblicati</li>\n",
    "    <li>Visualizzazioni totali</li>\n",
    "    <li>Likes ricevuti </li>\n",
    "    <li>Commenti generati </li>\n",
    "    <li>Condivisioni ottenute </li>\n",
    "  </ul>\n",
    "\n",
    "  <p><strong>Dati elettorali:</strong></p>\n",
    "  <ul>\n",
    "    <li>Risultati ufficiali elezioni politiche italiane 2022</li>\n",
    "    <li>Voti per lista aggregati a livello nazionale</li>\n",
    "    <li>8 partiti principali con presenza TikTok verificata</li>\n",
    "  </ul>\n",
    "</div>\n",
    "</div>"
   ]
  },
  {
   "cell_type": "markdown",
   "id": "0a4a44b2",
   "metadata": {
    "editable": true,
    "slideshow": {
     "slide_type": "slide"
    },
    "tags": []
   },
   "source": [
    "<div style=\"display: flex; gap: 30px; justify-content: center; flex-wrap: wrap; align-items: flex-start; font-family: Arial, sans-serif; color: #000; max-width: 1100px; margin: 40px auto;\">\n",
    "\n",
    "  <!-- SINISTRA: Blocco tabellare -->\n",
    "  <div style=\"flex: 1 1 500px; min-width: 300px; background:#FAFAFA; padding:20px; border-radius:12px; box-shadow:0 4px 10px rgba(0,0,0,0.08);\">\n",
    "    <h2 style=\"text-align:center; color:#2C2C2C;\">Filtraggio Dataset TikTok Elections 2022</h2>\n",
    "    <table style=\"width:100%; border-collapse:collapse; font-size:16px; margin-top:20px;\">\n",
    "      <thead>\n",
    "        <tr style=\"background:#F0F0F0;\">\n",
    "          <th style=\"padding:10px; text-align:left;\">Categoria</th>\n",
    "          <th style=\"padding:10px; text-align:right;\">Valore</th>\n",
    "        </tr>\n",
    "      </thead>\n",
    "      <tbody>\n",
    "        <tr>\n",
    "          <td style=\"padding:10px;\">Video Totali Analizzati</td>\n",
    "          <td style=\"padding:10px; text-align:right;\">1,744</td>\n",
    "        </tr>\n",
    "        <tr>\n",
    "          <td style=\"padding:10px;\">Video Utilizzabili (Finale)</td>\n",
    "          <td style=\"padding:10px; text-align:right; color:#00C853;\"><strong>220</strong> (12.6%)</td>\n",
    "        </tr>\n",
    "        <tr>\n",
    "          <td style=\"padding:10px;\">Video Scartati (Fuzzy Matching)</td>\n",
    "          <td style=\"padding:10px; text-align:right; color:#FF0050;\">1,524 (87.4%)</td>\n",
    "        </tr>\n",
    "        <tr style=\"background:#F8F8F8;\">\n",
    "          <td style=\"padding:10px;\"><strong>Efficienza Pipeline</strong></td>\n",
    "          <td style=\"padding:10px; text-align:right;\"><strong>12.6%</strong></td>\n",
    "        </tr>\n",
    "      </tbody>\n",
    "    </table>\n",
    "    <p style=\"margin-top:20px; font-size:12px; text-align:center; color:gray;\">\n",
    "      <i>Pipeline di Fuzzy Matching → Politici riconosciuti correttamente</i><br>\n",
    "      <i>Data Science Project - Mehdi Zahid - UNIUD 2025</i>\n",
    "    </p>\n",
    "  </div>\n",
    "\n",
    "  <!-- DESTRA: Spiegazione -->\n",
    "  <div style=\"flex: 1 1 400px; min-width: 300px; background: #FAFAFA; padding: 20px; border-radius: 12px; box-shadow: 0 4px 10px rgba(0,0,0,0.08);\">\n",
    "    <h3 style=\"margin-top: 0; color:#2C2C2C;\">Perché il dataset finale è così ridotto?</h3>\n",
    "    <p>La <strong>maggior parte dei video (87.4%)</strong> non hanno match validi, dovuta a:</p>\n",
    "    <ul style=\"padding-left: 20px; line-height: 1.6;\">\n",
    "      <li>Username TikTok spesso diversi dai nomi reali</li>\n",
    "      <li>Presenza di account non verificati</li>\n",
    "      <li>Politici non presenti nel database elettorale</li>\n",
    "      <li>Variazioni nella scrittura dei nomi</li>\n",
    "    </ul>\n",
    "  </div>\n",
    "\n",
    "</div>"
   ]
  },
  {
   "cell_type": "markdown",
   "id": "821fa2dd",
   "metadata": {
    "editable": true,
    "slideshow": {
     "slide_type": "slide"
    },
    "tags": []
   },
   "source": [
    "<h2><b>1) Come sono distribuite le variabili TikTok ed elettorali?</b></h2>\n",
    "<p>Analisi delle <strong>curve di densità (KDE)</strong> per comprendere la forma e la simmetria delle variabili principali:</p>\n",
    "<ul>\n",
    "  <li><strong>Totale voti</strong> ricevuti per partito</li>\n",
    "  <li><strong>Numero di post TikTok</strong> pubblicati</li>\n",
    "  <li><strong>Visualizzazioni</strong> totali (in scala logaritmica)</li>\n",
    "  <li><strong>Engagement complessivo</strong> (likes + commenti + condivisioni, scala logaritmica)</li>\n",
    "</ul>"
   ]
  },
  {
   "cell_type": "markdown",
   "id": "0ba9b645",
   "metadata": {
    "editable": true,
    "slideshow": {
     "slide_type": "subslide"
    },
    "tags": []
   },
   "source": [
    "<h3><b>1) Come sono distribuite le variabili TikTok ed elettorali?</b></h3>\n",
    "<h4 class=\"sub\"><b>Le 4 curve di densità (KDE)</b></p>"
   ]
  },
  {
   "cell_type": "code",
   "execution_count": 3,
   "id": "2cb9b94f",
   "metadata": {
    "editable": true,
    "slideshow": {
     "slide_type": ""
    },
    "tags": []
   },
   "outputs": [
    {
     "ename": "NameError",
     "evalue": "name 'plt' is not defined",
     "output_type": "error",
     "traceback": [
      "\u001b[31m---------------------------------------------------------------------------\u001b[39m",
      "\u001b[31mNameError\u001b[39m                                 Traceback (most recent call last)",
      "\u001b[36mCell\u001b[39m\u001b[36m \u001b[39m\u001b[32mIn[3]\u001b[39m\u001b[32m, line 3\u001b[39m\n\u001b[32m      1\u001b[39m \u001b[38;5;66;03m# 📊 DISTRIBUZIONE DELLE VARIABILI PRINCIPALI (KDE - CURVE GAUSSIANE)\u001b[39;00m\n\u001b[32m----> \u001b[39m\u001b[32m3\u001b[39m fig, axes = \u001b[43mplt\u001b[49m.subplots(\u001b[32m2\u001b[39m, \u001b[32m2\u001b[39m, figsize=(\u001b[32m16\u001b[39m, \u001b[32m12\u001b[39m))\n\u001b[32m      4\u001b[39m fig.suptitle(\u001b[33m'\u001b[39m\u001b[33mDistribuzione delle Variabili TikTok & Elettorali 2022 (Curve Gaussiane)\u001b[39m\u001b[33m'\u001b[39m, \n\u001b[32m      5\u001b[39m              fontsize=\u001b[32m18\u001b[39m, fontweight=\u001b[33m'\u001b[39m\u001b[33mbold\u001b[39m\u001b[33m'\u001b[39m, color=COLORS_PIE[\u001b[33m'\u001b[39m\u001b[33mdark\u001b[39m\u001b[33m'\u001b[39m])\n\u001b[32m      7\u001b[39m \u001b[38;5;66;03m# === SUBPLOT 1: DISTRIBUZIONE VOTI (KDE) ===\u001b[39;00m\n",
      "\u001b[31mNameError\u001b[39m: name 'plt' is not defined"
     ]
    }
   ],
   "source": [
    "# 📊 DISTRIBUZIONE DELLE VARIABILI PRINCIPALI (KDE - CURVE GAUSSIANE)\n",
    "\n",
    "fig, axes = plt.subplots(2, 2, figsize=(16, 12))\n",
    "fig.suptitle('Distribuzione delle Variabili TikTok & Elettorali 2022 (Curve Gaussiane)', \n",
    "             fontsize=18, fontweight='bold', color=COLORS_PIE['dark'])\n",
    "\n",
    "# === SUBPLOT 1: DISTRIBUZIONE VOTI (KDE) ===\n",
    "ax1 = axes[0, 0]\n",
    "sns.kdeplot(data=merged_data, x='TOTALE_VOTI_LISTA', ax=ax1, \n",
    "            color=COLORS_PIE['primary'], fill=True, alpha=0.6, linewidth=2)\n",
    "ax1.axvline(merged_data['TOTALE_VOTI_LISTA'].mean(), color=COLORS_PIE['accent'], \n",
    "           linestyle='--', linewidth=2, label=f'Media: {merged_data[\"TOTALE_VOTI_LISTA\"].mean():,.0f}')\n",
    "ax1.axvline(merged_data['TOTALE_VOTI_LISTA'].median(), color=COLORS_PIE['success'], \n",
    "           linestyle='--', linewidth=2, label=f'Mediana: {merged_data[\"TOTALE_VOTI_LISTA\"].median():,.0f}')\n",
    "ax1.set_title('Distribuzione Voti Totali', fontsize=14, fontweight='bold')\n",
    "ax1.set_xlabel('Voti Totali', fontweight='bold')\n",
    "ax1.set_ylabel('Densità', fontweight='bold')\n",
    "ax1.legend()\n",
    "ax1.grid(True, alpha=0.3)\n",
    "\n",
    "# === SUBPLOT 2: DISTRIBUZIONE POST TIKTOK (KDE) ===\n",
    "ax2 = axes[0, 1]\n",
    "sns.kdeplot(data=merged_data, x='NUMERO_POST_TIKTOK', ax=ax2, \n",
    "            color=COLORS_PIE['secondary'], fill=True, alpha=0.6, linewidth=2)\n",
    "ax2.axvline(merged_data['NUMERO_POST_TIKTOK'].mean(), color=COLORS_PIE['accent'], \n",
    "           linestyle='--', linewidth=2, label=f'Media: {merged_data[\"NUMERO_POST_TIKTOK\"].mean():.1f}')\n",
    "ax2.axvline(merged_data['NUMERO_POST_TIKTOK'].median(), color=COLORS_PIE['success'], \n",
    "           linestyle='--', linewidth=2, label=f'Mediana: {merged_data[\"NUMERO_POST_TIKTOK\"].median():.0f}')\n",
    "ax2.set_title('Distribuzione Numero Post', fontsize=14, fontweight='bold')\n",
    "ax2.set_xlabel('Numero Post TikTok', fontweight='bold')\n",
    "ax2.set_ylabel('Densità', fontweight='bold')\n",
    "ax2.legend()\n",
    "ax2.grid(True, alpha=0.3)\n",
    "\n",
    "# === SUBPLOT 3: DISTRIBUZIONE VIEWS LOG (KDE) ===\n",
    "ax3 = axes[1, 0]\n",
    "views_data = merged_data['TOTALE_VIEWS_TIKTOK'][merged_data['TOTALE_VIEWS_TIKTOK'] > 0]\n",
    "log_views = np.log10(views_data)\n",
    "sns.kdeplot(x=log_views, ax=ax3, \n",
    "            color=COLORS_PIE['accent'], fill=True, alpha=0.6, linewidth=2)\n",
    "ax3.axvline(np.log10(views_data.mean()), color=COLORS_PIE['primary'], \n",
    "           linestyle='--', linewidth=2, label=f'Media: {views_data.mean():,.0f}')\n",
    "ax3.axvline(np.log10(views_data.median()), color=COLORS_PIE['success'], \n",
    "           linestyle='--', linewidth=2, label=f'Mediana: {views_data.median():,.0f}')\n",
    "ax3.set_title('Distribuzione Views (Log)', fontsize=14, fontweight='bold')\n",
    "ax3.set_xlabel('Log₁₀(Views Totali)', fontweight='bold')\n",
    "ax3.set_ylabel('Densità', fontweight='bold')\n",
    "ax3.legend()\n",
    "ax3.grid(True, alpha=0.3)\n",
    "\n",
    "# === SUBPLOT 4: DISTRIBUZIONE ENGAGEMENT LOG (KDE) ===\n",
    "ax4 = axes[1, 1]\n",
    "engagement_data = merged_data['ENGAGEMENT_TOTALE'][merged_data['ENGAGEMENT_TOTALE'] > 0]\n",
    "log_engagement = np.log10(engagement_data)\n",
    "sns.kdeplot(x=log_engagement, ax=ax4, \n",
    "            color=COLORS_PIE['success'], fill=True, alpha=0.6, linewidth=2)\n",
    "ax4.axvline(np.log10(engagement_data.mean()), color=COLORS_PIE['primary'], \n",
    "           linestyle='--', linewidth=2, label=f'Media: {engagement_data.mean():,.0f}')\n",
    "ax4.axvline(np.log10(engagement_data.median()), color=COLORS_PIE['accent'], \n",
    "           linestyle='--', linewidth=2, label=f'Mediana: {engagement_data.median():,.0f}')\n",
    "ax4.set_title('Distribuzione Engagement (Log)', fontsize=14, fontweight='bold')\n",
    "ax4.set_xlabel('Log₁₀(Engagement Totale)', fontweight='bold')\n",
    "ax4.set_ylabel('Densità', fontweight='bold')\n",
    "ax4.legend()\n",
    "ax4.grid(True, alpha=0.3)\n",
    "\n",
    "plt.tight_layout()\n",
    "plt.show()"
   ]
  },
  {
   "cell_type": "markdown",
   "id": "a88507af",
   "metadata": {
    "editable": true,
    "slideshow": {
     "slide_type": "slide"
    },
    "tags": []
   },
   "source": [
    "<h2>2) Top Performer TikTok Elections 2022</h2>\n",
    "<p>Analisi delle performance su quattro metriche chiave per identificare i partiti più efficaci su TikTok:</p>\n",
    "<ul>\n",
    "  <li><strong>Numero di Post TikTok:</strong> chi ha pubblicato di più</li>\n",
    "  <li><strong>Visualizzazioni Totali:</strong> chi ha generato più attenzione</li>\n",
    "  <li><strong>Engagement Totale:</strong> chi ha stimolato più interazioni (like, commenti, condivisioni)</li>\n",
    "  <li><strong>Voti Elettorali:</strong> chi ha convertito meglio la visibilità in consenso</li>\n",
    "</ul>\n",
    "<p>Per ogni metrica viene mostrata la <strong>top 8 dei partiti</strong> più performanti. Il formato abbreviato (K, M) facilita la lettura dei volumi.</p>"
   ]
  },
  {
   "cell_type": "markdown",
   "id": "5e950f5e",
   "metadata": {
    "slideshow": {
     "slide_type": "subslide"
    }
   },
   "source": [
    "<h3><b>2) Top Performer TikTok Elections 2022?</b></h3>\n"
   ]
  },
  {
   "cell_type": "code",
   "execution_count": 4,
   "id": "acee6331",
   "metadata": {
    "editable": true,
    "slideshow": {
     "slide_type": ""
    },
    "tags": []
   },
   "outputs": [
    {
     "ename": "NameError",
     "evalue": "name 'plt' is not defined",
     "output_type": "error",
     "traceback": [
      "\u001b[31m---------------------------------------------------------------------------\u001b[39m",
      "\u001b[31mNameError\u001b[39m                                 Traceback (most recent call last)",
      "\u001b[36mCell\u001b[39m\u001b[36m \u001b[39m\u001b[32mIn[4]\u001b[39m\u001b[32m, line 3\u001b[39m\n\u001b[32m      1\u001b[39m \u001b[38;5;66;03m# 🏆 TOP PERFORMERS - ANALISI DELLE PERFORMANCE PER METRICA\u001b[39;00m\n\u001b[32m----> \u001b[39m\u001b[32m3\u001b[39m fig, axes = \u001b[43mplt\u001b[49m.subplots(\u001b[32m2\u001b[39m, \u001b[32m2\u001b[39m, figsize=(\u001b[32m18\u001b[39m, \u001b[32m14\u001b[39m))\n\u001b[32m      4\u001b[39m fig.suptitle(\u001b[33m'\u001b[39m\u001b[33mTop Performers TikTok Elections 2022 - Ranking per Metrica\u001b[39m\u001b[33m'\u001b[39m, \n\u001b[32m      5\u001b[39m              fontsize=\u001b[32m20\u001b[39m, fontweight=\u001b[33m'\u001b[39m\u001b[33mbold\u001b[39m\u001b[33m'\u001b[39m, color=COLORS_PIE[\u001b[33m'\u001b[39m\u001b[33mdark\u001b[39m\u001b[33m'\u001b[39m])\n\u001b[32m      7\u001b[39m \u001b[38;5;66;03m# Ordino i dati per ciascuna metrica\u001b[39;00m\n",
      "\u001b[31mNameError\u001b[39m: name 'plt' is not defined"
     ]
    }
   ],
   "source": [
    "# 🏆 TOP PERFORMERS - ANALISI DELLE PERFORMANCE PER METRICA\n",
    "\n",
    "fig, axes = plt.subplots(2, 2, figsize=(18, 14))\n",
    "fig.suptitle('Top Performers TikTok Elections 2022 - Ranking per Metrica', \n",
    "             fontsize=20, fontweight='bold', color=COLORS_PIE['dark'])\n",
    "\n",
    "# Ordino i dati per ciascuna metrica\n",
    "top_posts = merged_data.nlargest(8, 'NUMERO_POST_TIKTOK')\n",
    "top_views = merged_data.nlargest(8, 'TOTALE_VIEWS_TIKTOK')\n",
    "top_engagement = merged_data.nlargest(8, 'ENGAGEMENT_TOTALE')\n",
    "top_voti = merged_data.nlargest(8, 'TOTALE_VOTI_LISTA')\n",
    "\n",
    "# === SUBPLOT 1: TOP POSTS TIKTOK ===\n",
    "ax1 = axes[0, 0]\n",
    "bars1 = ax1.barh(range(len(top_posts)), top_posts['NUMERO_POST_TIKTOK'], \n",
    "                 color=COLORS_PIE['secondary'], alpha=0.8, edgecolor='white', linewidth=1.5)\n",
    "ax1.set_yticks(range(len(top_posts)))\n",
    "ax1.set_yticklabels([partito[:15] for partito in top_posts['PARTITO']], fontweight='bold')\n",
    "ax1.set_xlabel('Numero Post TikTok', fontweight='bold', fontsize=12)\n",
    "ax1.set_title('Top Posts TikTok', fontsize=14, fontweight='bold')\n",
    "ax1.grid(True, alpha=0.3, axis='x')\n",
    "\n",
    "# Annotazioni valori\n",
    "for i, (bar, value) in enumerate(zip(bars1, top_posts['NUMERO_POST_TIKTOK'])):\n",
    "    ax1.text(value + 0.5, i, f'{int(value)}', \n",
    "             va='center', fontweight='bold', fontsize=11)\n",
    "\n",
    "# === SUBPLOT 2: TOP VIEWS TOTALI ===\n",
    "ax2 = axes[0, 1]\n",
    "bars2 = ax2.barh(range(len(top_views)), top_views['TOTALE_VIEWS_TIKTOK'], \n",
    "                 color=COLORS_PIE['accent'], alpha=0.8, edgecolor='white', linewidth=1.5)\n",
    "ax2.set_yticks(range(len(top_views)))\n",
    "ax2.set_yticklabels([partito[:15] for partito in top_views['PARTITO']], fontweight='bold')\n",
    "ax2.set_xlabel('Views Totali', fontweight='bold', fontsize=12)\n",
    "ax2.set_title('Top Views TikTok', fontsize=14, fontweight='bold')\n",
    "ax2.grid(True, alpha=0.3, axis='x')\n",
    "\n",
    "# Annotazioni valori (formato abbreviato per views)\n",
    "for i, (bar, value) in enumerate(zip(bars2, top_views['TOTALE_VIEWS_TIKTOK'])):\n",
    "    if value >= 1000000:\n",
    "        text = f'{value/1000000:.1f}M'\n",
    "    elif value >= 1000:\n",
    "        text = f'{value/1000:.0f}K'\n",
    "    else:\n",
    "        text = f'{int(value)}'\n",
    "    ax2.text(value + max(top_views['TOTALE_VIEWS_TIKTOK'])*0.02, i, text, \n",
    "             va='center', fontweight='bold', fontsize=11)\n",
    "\n",
    "# === SUBPLOT 3: TOP ENGAGEMENT ===\n",
    "ax3 = axes[1, 0]\n",
    "bars3 = ax3.barh(range(len(top_engagement)), top_engagement['ENGAGEMENT_TOTALE'], \n",
    "                 color=COLORS_PIE['success'], alpha=0.8, edgecolor='white', linewidth=1.5)\n",
    "ax3.set_yticks(range(len(top_engagement)))\n",
    "ax3.set_yticklabels([partito[:15] for partito in top_engagement['PARTITO']], fontweight='bold')\n",
    "ax3.set_xlabel('Engagement Totale', fontweight='bold', fontsize=12)\n",
    "ax3.set_title('Top Engagement TikTok', fontsize=14, fontweight='bold')\n",
    "ax3.grid(True, alpha=0.3, axis='x')\n",
    "\n",
    "# Annotazioni valori (formato abbreviato per engagement)\n",
    "for i, (bar, value) in enumerate(zip(bars3, top_engagement['ENGAGEMENT_TOTALE'])):\n",
    "    if value >= 1000000:\n",
    "        text = f'{value/1000000:.1f}M'\n",
    "    elif value >= 1000:\n",
    "        text = f'{value/1000:.0f}K'\n",
    "    else:\n",
    "        text = f'{int(value)}'\n",
    "    ax3.text(value + max(top_engagement['ENGAGEMENT_TOTALE'])*0.02, i, text, \n",
    "             va='center', fontweight='bold', fontsize=11)\n",
    "\n",
    "# === SUBPLOT 4: TOP VOTI ELETTORALI ===\n",
    "ax4 = axes[1, 1]\n",
    "bars4 = ax4.barh(range(len(top_voti)), top_voti['TOTALE_VOTI_LISTA'], \n",
    "                 color=COLORS_PIE['primary'], alpha=0.8, edgecolor='white', linewidth=1.5)\n",
    "ax4.set_yticks(range(len(top_voti)))\n",
    "ax4.set_yticklabels([partito[:15] for partito in top_voti['PARTITO']], fontweight='bold')\n",
    "ax4.set_xlabel('Voti Totali', fontweight='bold', fontsize=12)\n",
    "ax4.set_title('Top Voti Elettorali', fontsize=14, fontweight='bold')\n",
    "ax4.grid(True, alpha=0.3, axis='x')\n",
    "\n",
    "# Annotazioni valori (formato abbreviato per voti)\n",
    "for i, (bar, value) in enumerate(zip(bars4, top_voti['TOTALE_VOTI_LISTA'])):\n",
    "    if value >= 1000000:\n",
    "        text = f'{value/1000000:.1f}M'\n",
    "    elif value >= 1000:\n",
    "        text = f'{value/1000:.0f}K'\n",
    "    else:\n",
    "        text = f'{int(value)}'\n",
    "    ax4.text(value + max(top_voti['TOTALE_VOTI_LISTA'])*0.02, i, text, \n",
    "             va='center', fontweight='bold', fontsize=11)\n",
    "\n",
    "plt.tight_layout()\n",
    "plt.show()\n"
   ]
  },
  {
   "cell_type": "markdown",
   "id": "10d7098d",
   "metadata": {
    "slideshow": {
     "slide_type": "slide"
    }
   },
   "source": [
    "<h2><b>3) Quale metrica TikTok è più predittiva dei voti?</b></h2>\n",
    "<p>Come arrivare al risultato:</p>\n",
    "<ul>\n",
    "  <li>Confronto delle <b>correlazioni</b> tra ciascuna metrica TikTok e i voti ricevuti</li>\n",
    "  <li>Utilizzo di tre metodi: <b>Pearson</b>, <b>Spearman</b> e <b>Kendall</b></li>\n",
    "  <li>Verifica della <b>significatività statistica</b> tramite i p-value</li>\n",
    "  <li>Identificazione della metrica con il <b>r più alto e p < 0.05</b></li>\n",
    "</ul>"
   ]
  },
  {
   "cell_type": "code",
   "execution_count": 5,
   "id": "cddf26f7",
   "metadata": {},
   "outputs": [
    {
     "ename": "NameError",
     "evalue": "name 'merged_data' is not defined",
     "output_type": "error",
     "traceback": [
      "\u001b[31m---------------------------------------------------------------------------\u001b[39m",
      "\u001b[31mNameError\u001b[39m                                 Traceback (most recent call last)",
      "\u001b[36mCell\u001b[39m\u001b[36m \u001b[39m\u001b[32mIn[5]\u001b[39m\u001b[32m, line 19\u001b[39m\n\u001b[32m     17\u001b[39m correlations_multimetodo = []\n\u001b[32m     18\u001b[39m \u001b[38;5;28;01mfor\u001b[39;00m var \u001b[38;5;129;01min\u001b[39;00m tiktok_variables:\n\u001b[32m---> \u001b[39m\u001b[32m19\u001b[39m     \u001b[38;5;28;01mif\u001b[39;00m var \u001b[38;5;129;01min\u001b[39;00m \u001b[43mmerged_data\u001b[49m.columns:\n\u001b[32m     20\u001b[39m         \u001b[38;5;66;03m# Filtro valori validi (non zero)\u001b[39;00m\n\u001b[32m     21\u001b[39m         valid_data = merged_data[(merged_data[var] > \u001b[32m0\u001b[39m) & (merged_data[\u001b[33m'\u001b[39m\u001b[33mTOTALE_VOTI_LISTA\u001b[39m\u001b[33m'\u001b[39m] > \u001b[32m0\u001b[39m)]\n\u001b[32m     23\u001b[39m         \u001b[38;5;28;01mif\u001b[39;00m \u001b[38;5;28mlen\u001b[39m(valid_data) > \u001b[32m2\u001b[39m:  \u001b[38;5;66;03m# Controllo dati sufficienti\u001b[39;00m\n\u001b[32m     24\u001b[39m             \u001b[38;5;66;03m# Pearson (lineare)\u001b[39;00m\n",
      "\u001b[31mNameError\u001b[39m: name 'merged_data' is not defined"
     ]
    }
   ],
   "source": [
    "# 🔗 CORRELAZIONI PRELIMINARI - ANALISI MULTIMETODO (Pearson, Spearman, Kendall)\n",
    "\n",
    "# === CALCOLO CORRELAZIONI COMPLETE CON 3 METODI ===\n",
    "from scipy.stats import pearsonr, spearmanr, kendalltau\n",
    "\n",
    "# Definisco le variabili TikTok da analizzare\n",
    "tiktok_variables = [\n",
    "    'NUMERO_POST_TIKTOK',\n",
    "    'TOTALE_VIEWS_TIKTOK', \n",
    "    'ENGAGEMENT_TOTALE',\n",
    "    'TOTALE_LIKES_TIKTOK',\n",
    "    'TOTALE_COMMENTI_TIKTOK',\n",
    "    'TOTALE_SHARES_TIKTOK'\n",
    "]\n",
    "\n",
    "# Calcolo correlazioni con tutti e 3 i metodi\n",
    "correlations_multimetodo = []\n",
    "for var in tiktok_variables:\n",
    "    if var in merged_data.columns:\n",
    "        # Filtro valori validi (non zero)\n",
    "        valid_data = merged_data[(merged_data[var] > 0) & (merged_data['TOTALE_VOTI_LISTA'] > 0)]\n",
    "        \n",
    "        if len(valid_data) > 2:  # Controllo dati sufficienti\n",
    "            # Pearson (lineare)\n",
    "            corr_pearson, p_pearson = pearsonr(valid_data[var], valid_data['TOTALE_VOTI_LISTA'])\n",
    "            \n",
    "            # Spearman (monotonica)\n",
    "            corr_spearman, p_spearman = spearmanr(valid_data[var], valid_data['TOTALE_VOTI_LISTA'])\n",
    "            \n",
    "            # Kendall (non-parametrica)\n",
    "            corr_kendall, p_kendall = kendalltau(valid_data[var], valid_data['TOTALE_VOTI_LISTA'])\n",
    "            \n",
    "            # Calcolo significatività media\n",
    "            p_mean = np.mean([p_pearson, p_spearman, p_kendall])\n",
    "            \n",
    "            # Classificazione significatività\n",
    "            if p_mean < 0.001:\n",
    "                significance = \"***\"\n",
    "                sig_level = \"Altamente Significativa\"\n",
    "            elif p_mean < 0.01:\n",
    "                significance = \"**\"\n",
    "                sig_level = \"Molto Significativa\"\n",
    "            elif p_mean < 0.05:\n",
    "                significance = \"*\"\n",
    "                sig_level = \"Significativa\"\n",
    "            else:\n",
    "                significance = \"\"\n",
    "                sig_level = \"Non Significativa\"\n",
    "            \n",
    "            correlations_multimetodo.append({\n",
    "                'variable': var,\n",
    "                'pearson': corr_pearson,\n",
    "                'spearman': corr_spearman,\n",
    "                'kendall': corr_kendall,\n",
    "                'p_pearson': p_pearson,\n",
    "                'p_spearman': p_spearman,\n",
    "                'p_kendall': p_kendall,\n",
    "                'p_mean': p_mean,\n",
    "                'significance': significance,\n",
    "                'sig_level': sig_level,\n",
    "                'n_samples': len(valid_data)\n",
    "            })\n",
    "\n",
    "# Converto in DataFrame\n",
    "corr_multi_df = pd.DataFrame(correlations_multimetodo)\n",
    "\n",
    "# Preparo nomi variabili puliti\n",
    "var_names_clean = []\n",
    "for var in corr_multi_df['variable']:\n",
    "    if 'POST' in var:\n",
    "        name = 'Numero Post'\n",
    "    elif 'VIEWS' in var:\n",
    "        name = 'Views Totali'\n",
    "    elif 'ENGAGEMENT' in var:\n",
    "        name = 'Engagement'\n",
    "    elif 'LIKES' in var:\n",
    "        name = 'Likes Totali'\n",
    "    elif 'COMMENTI' in var:\n",
    "        name = 'Commenti'\n",
    "    elif 'SHARES' in var:\n",
    "        name = 'Shares'\n",
    "    else:\n",
    "        name = var.replace('TOTALE_', '').replace('_TIKTOK', '')\n",
    "    var_names_clean.append(name)\n",
    "\n",
    "# === ANALISI STATISTICHE DETTAGLIATE ===\n",
    "print(\"🔗 ANALISI CORRELAZIONI MULTIMETODO\")\n",
    "print(\"=\" * 100)\n",
    "print(f\"{'Variabile':<15} {'Pearson':<10} {'Spearman':<10} {'Kendall':<10} {'P-Pearson':<10} {'P-Spearman':<10} {'P-Kendall':<10} {'Significatività':<15}\")\n",
    "print(\"-\" * 100)\n",
    "\n",
    "for i, (_, row) in enumerate(corr_multi_df.iterrows()):\n",
    "    var_name = var_names_clean[i][:13]\n",
    "    print(f\"{var_name:<15} {row['pearson']:>8.3f}  {row['spearman']:>8.3f}  {row['kendall']:>8.3f}  \"\n",
    "          f\"{row['p_pearson']:>8.3f}  {row['p_spearman']:>8.3f}  {row['p_kendall']:>8.3f}  {row['sig_level']:<15}\")\n",
    "\n",
    "# "
   ]
  },
  {
   "cell_type": "markdown",
   "id": "15a6d2e7",
   "metadata": {
    "editable": true,
    "slideshow": {
     "slide_type": "subslide"
    },
    "tags": []
   },
   "source": [
    "<h2><b>3) Quale metrica TikTok è più predittiva dei voti?</b></h2>\n",
    "<h4 class=\"sub\"><b>Coefficienti di correlazione</b></h4>\n",
    "\n",
    "<div style=\"display: flex; gap: 30px; justify-content: center; flex-wrap: wrap; align-items: flex-start; font-family: Arial, sans-serif; color: #000; max-width: 1100px; margin: 40px auto;\">\n",
    "\n",
    "  <!-- SINISTRA: Tabella -->\n",
    "  <div style=\"flex: 1 1 550px; min-width: 320px; background:#FAFAFA; padding:20px; border-radius:12px; box-shadow:0 4px 10px rgba(0,0,0,0.08); overflow-x: auto;\">\n",
    "    <h2 style=\"text-align:center; color:#2C2C2C;\">Analisi Correlazioni Multimetodo</h2>\n",
    "    <table style=\"width:100%; border-collapse:collapse; font-size:15px; margin-top:20px; min-width: 500px;\">\n",
    "      <thead>\n",
    "        <tr style=\"background:#F0F0F0;\">\n",
    "          <th style=\"padding:8px;\">Variabile</th>\n",
    "          <th style=\"padding:8px;\">Pearson</th>\n",
    "          <th style=\"padding:8px;\">Spearman</th>\n",
    "          <th style=\"padding:8px;\">Kendall</th>\n",
    "          <th style=\"padding:8px;\">P-Pearson</th>\n",
    "          <th style=\"padding:8px;\">P-Spearman</th>\n",
    "          <th style=\"padding:8px;\">P-Kendall</th>\n",
    "        </tr>\n",
    "      </thead>\n",
    "      <tbody>\n",
    "        <tr>\n",
    "          <td style=\"padding:8px;\">Numero Post</td>\n",
    "          <td>0.839</td><td>0.905</td><td>0.786</td>\n",
    "          <td>0.009</td><td>0.002</td><td>0.006</td>\n",
    "        </tr>\n",
    "        <tr>\n",
    "          <td style=\"padding:8px;\">Views Totali</td>\n",
    "          <td>0.541</td><td>0.833</td><td>0.714</td>\n",
    "          <td>0.166</td><td>0.010</td><td>0.014</td>\n",
    "        </tr>\n",
    "        <tr>\n",
    "          <td style=\"padding:8px;\">Engagement Totale</td>\n",
    "          <td>0.174</td><td>0.714</td><td>0.571</td>\n",
    "          <td>0.680</td><td>0.047</td><td>0.061</td>\n",
    "        </tr>\n",
    "      </tbody>\n",
    "    </table>\n",
    "    <p style=\"margin-top:18px; font-size:12px; text-align:center; color:gray;\">\n",
    "      Confronto tra coefficienti di correlazione per ogni metrica TikTok<br>\n",
    "      <i>Data Science Project - Mehdi Zahid - UNIUD 2025</i>\n",
    "    </p>\n",
    "  </div>\n",
    "\n",
    "  <!-- DESTRA: Interpretazione -->\n",
    "  <div style=\"flex: 1 1 400px; min-width: 300px; background: #FAFAFA; padding: 20px; border-radius: 12px; box-shadow: 0 4px 10px rgba(0,0,0,0.08);\">\n",
    "    <h3 style=\"margin-top: 0; color:#2C2C2C;\">Quale metrica TikTok è più predittiva dei voti?</h3>\n",
    "    <p>Tra tutte le metriche analizzate, il <strong>numero di post TikTok</strong> mostra:</p>\n",
    "    <ul style=\"padding-left: 20px; line-height: 1.6;\">\n",
    "      <li>La <strong>correlazione più elevata</strong> con i voti</li>\n",
    "      <li> Valori <strong>significativi per tutti i test</strong> (p &lt; 0.01)</li>\n",
    "    </ul>\n",
    "    <p style=\"margin-top:10px;\">\n",
    "       Views ed Engagement mostrano buoni valori ma con \n",
    "      <span style=\"color: #FF0050; font-weight: bold;\">significatività più debole</span>.\n",
    "    </p>\n",
    "  </div>\n",
    "</div>"
   ]
  },
  {
   "cell_type": "markdown",
   "id": "c31587b5",
   "metadata": {
    "slideshow": {
     "slide_type": "slide"
    }
   },
   "source": [
    "<h2><b>4) È possibile scoprire in anticipo il risultato elettorale?</b></h2>\n",
    "<p>Come arrivare al risultato:</p>\n",
    "<ul>\n",
    "  <li>Analisi delle principali metriche TikTok pubbliche (post, views, engagement)</li>\n",
    "  <li>Costruzione di modelli predittivi con regressione lineare</li>\n",
    "  <li>Confronto tra metodi di correlazione (Pearson, Spearman, Kendall)</li>\n",
    "  <li>Valutazione delle performance predittive (R², MAE, RMSE)</li>\n",
    "</ul>"
   ]
  },
  {
   "cell_type": "markdown",
   "id": "86be4802",
   "metadata": {
    "slideshow": {
     "slide_type": "subslide"
    }
   },
   "source": [
    "<h3><b>4) È possibile scoprire in anticipo il risultato elettorale?</b></h3>\n",
    "<h4 class=\"sub\"><b>Retta di regressione</b></h4>"
   ]
  },
  {
   "cell_type": "code",
   "execution_count": 733,
   "id": "46165502",
   "metadata": {
    "editable": true,
    "slideshow": {
     "slide_type": ""
    },
    "tags": []
   },
   "outputs": [
    {
     "data": {
      "image/png": "[encoded data removed]",
      "text/plain": [
       "<Figure size 1400x1000 with 2 Axes>"
      ]
     },
     "metadata": {},
     "output_type": "display_data"
    }
   ],
   "source": [
    "# 📱 REGRESSIONE ELEGANTE: NUMERO POST TIKTOK → VOTI ELETTORALI\n",
    "\n",
    "from sklearn.linear_model import LinearRegression\n",
    "from sklearn.metrics import r2_score, mean_squared_error\n",
    "import numpy as np\n",
    "import matplotlib.pyplot as plt\n",
    "import seaborn as sns\n",
    "from scipy.stats import pearsonr\n",
    "\n",
    "# Configurazione colori eleganti\n",
    "COLORS = {\n",
    "    'primary': '#FF0050',   \n",
    "    'secondary': '#25F4EE',  \n",
    "    'accent': '#FE2C55',     \n",
    "    'dark': '#2C2C2C',\n",
    "    'light': '#F8F9FA',\n",
    "    'gradient': ['#FF0050', '#25F4EE', '#FE2C55']\n",
    "}\n",
    "\n",
    "# === PREPARAZIONE DATI ===\n",
    "valid_data = merged_data[(merged_data['NUMERO_POST_TIKTOK'] > 0) & (merged_data['TOTALE_VOTI_LISTA'] > 0)]\n",
    "\n",
    "X = valid_data['NUMERO_POST_TIKTOK'].values.reshape(-1, 1)\n",
    "y = valid_data['TOTALE_VOTI_LISTA'].values\n",
    "\n",
    "# Addestra modello\n",
    "model = LinearRegression()\n",
    "model.fit(X, y)\n",
    "\n",
    "# Metriche\n",
    "y_pred = model.predict(X)\n",
    "r2 = r2_score(y, y_pred)\n",
    "corr, p_value = pearsonr(valid_data['NUMERO_POST_TIKTOK'], valid_data['TOTALE_VOTI_LISTA'])\n",
    "\n",
    "# === GRAFICO ELEGANTE ===\n",
    "plt.style.use('default')\n",
    "fig, ax = plt.subplots(1, 1, figsize=(14, 10))\n",
    "fig.patch.set_facecolor('white')\n",
    "\n",
    "# Scatter plot con gradiente di colori basato sui voti\n",
    "scatter = ax.scatter(valid_data['NUMERO_POST_TIKTOK'], \n",
    "                    valid_data['TOTALE_VOTI_LISTA'],\n",
    "                    c=valid_data['TOTALE_VOTI_LISTA'],\n",
    "                    s=150, \n",
    "                    cmap='plasma',\n",
    "                    alpha=0.8,\n",
    "                    edgecolors='white', \n",
    "                    linewidth=2.5,\n",
    "                    zorder=3)\n",
    "\n",
    "# Retta di regressione elegante\n",
    "x_range = np.linspace(valid_data['NUMERO_POST_TIKTOK'].min(), \n",
    "                      valid_data['NUMERO_POST_TIKTOK'].max(), 100)\n",
    "y_range = model.predict(x_range.reshape(-1, 1))\n",
    "\n",
    "# Banda di confidenza (simulata)\n",
    "residuals = y - y_pred\n",
    "std_residuals = np.std(residuals)\n",
    "confidence_band = 1.96 * std_residuals\n",
    "\n",
    "ax.fill_between(x_range, \n",
    "                y_range - confidence_band, \n",
    "                y_range + confidence_band,\n",
    "                alpha=0.15, \n",
    "                color=COLORS['accent'],\n",
    "                label='Banda di Confidenza 95%',\n",
    "                zorder=1)\n",
    "\n",
    "# Retta di regressione principale\n",
    "ax.plot(x_range, y_range, \n",
    "        color=COLORS['accent'], \n",
    "        linewidth=4, \n",
    "        alpha=0.9,\n",
    "        label=f'Retta di Regressione',\n",
    "        zorder=2)\n",
    "\n",
    "# Annotazioni partiti eleganti\n",
    "acronimi_partiti = {\n",
    "    'FRATELLI D\\'ITALIA': 'FRATELLI IT',\n",
    "    'PARTITO DEMOCRATICO': 'PD',\n",
    "    'LEGA': 'LEGA',\n",
    "    'FORZA ITALIA': 'FORZA IT',\n",
    "    'AZIONE': 'AZIONE',\n",
    "    'ALLEANZA VERDI E SINISTRA': 'AV-S',\n",
    "    'NOI MODERATI': 'NOI MOD',\n",
    "    # Aggiungi altri se servono\n",
    "}\n",
    "for _, row in valid_data.iterrows():\n",
    "    ax.annotate(acronimi_partiti.get(row['PARTITO'], row['PARTITO'][:10]), \n",
    "               (row['NUMERO_POST_TIKTOK'], row['TOTALE_VOTI_LISTA']),\n",
    "               xytext=(8, 8), \n",
    "               textcoords='offset points',\n",
    "               fontsize=7, \n",
    "               fontweight='600',\n",
    "               color=COLORS['dark'],\n",
    "               bbox=dict(boxstyle='round,pad=0.3', \n",
    "                        facecolor='white', \n",
    "                        edgecolor=COLORS['accent'],\n",
    "                        alpha=0.8),\n",
    "               zorder=4)\n",
    "\n",
    "# Styling elegante\n",
    "ax.set_xlabel('Numero Post TikTok', fontweight='bold', fontsize=16, color=COLORS['dark'])\n",
    "ax.set_ylabel('Voti Totali', fontweight='bold', fontsize=16, color=COLORS['dark'])\n",
    "\n",
    "# Titolo con statistiche\n",
    "title = f'Regressione Lineare: TikTok Posts → Voti Elettorali 2022\\n'\n",
    "ax.set_title(title, fontsize=20, fontweight='bold', color=COLORS['dark'], pad=20)\n",
    "\n",
    "# Grid elegante\n",
    "ax.grid(True, alpha=0.3, linestyle='--', linewidth=0.8)\n",
    "ax.set_facecolor('#FAFAFA')\n",
    "\n",
    "# Equazione matematica stilizzata\n",
    "textstr = f'Ogni post TikTok aggiuntivo\\ngenera ~{model.coef_[0]:,.0f} voti'\n",
    "\n",
    "props = dict(boxstyle='round,pad=0.8', \n",
    "             facecolor=COLORS['light'], \n",
    "             edgecolor=COLORS['primary'],\n",
    "             linewidth=2,\n",
    "             alpha=0.95)\n",
    "\n",
    "ax.text(0.03, 0.97, textstr, transform=ax.transAxes, \n",
    "        fontsize=12, fontweight='bold',\n",
    "        verticalalignment='top',\n",
    "        bbox=props,\n",
    "        color=COLORS['dark'])\n",
    "\n",
    "# Colorbar elegante\n",
    "cbar = plt.colorbar(scatter, ax=ax, shrink=0.8, aspect=30)\n",
    "cbar.set_label('🗳️ Voti Totali', fontweight='bold', fontsize=12, color=COLORS['dark'])\n",
    "cbar.ax.tick_params(labelsize=10)\n",
    "\n",
    "# Legenda\n",
    "ax.legend(loc='lower right', fontsize=12, framealpha=0.9)\n",
    "\n",
    "# Layout finale\n",
    "plt.tight_layout()\n",
    "plt.subplots_adjust(top=0.88)\n",
    "\n",
    "plt.show()"
   ]
  },
  {
   "cell_type": "markdown",
   "id": "e24b8b0e",
   "metadata": {
    "slideshow": {
     "slide_type": "subslide"
    }
   },
   "source": [
    "<div style=\"display: flex; gap: 30px; justify-content: center; flex-wrap: wrap; align-items: flex-start; font-family: Arial, sans-serif; color: #000; max-width: 1100px; margin: 40px auto;\">\n",
    "\n",
    "  <div style=\"flex: 1 1 500px; min-width: 300px; background:#FAFAFA; padding:20px; border-radius:12px; box-shadow:0 4px 10px rgba(0,0,0,0.08);\">\n",
    "    <h2 style=\"text-align:center; color:#2C2C2C;\">Metriche Principali del Modello</h2>\n",
    "    <table style=\"width:100%; border-collapse:collapse; font-size:16px; margin-top:20px;\">\n",
    "      <thead>\n",
    "        <tr style=\"background:#F0F0F0;\">\n",
    "          <th style=\"padding:10px; text-align:left;\">Metrica</th>\n",
    "          <th style=\"padding:10px; text-align:right;\">Valore</th>\n",
    "        </tr>\n",
    "      </thead>\n",
    "      <tbody>\n",
    "        <tr>\n",
    "          <td style=\"padding:10px;\">R² (Varianza spiegata)</td>\n",
    "          <td style=\"padding:10px; text-align:right;\">0.703 → 70.3%</td>\n",
    "        </tr>\n",
    "        <tr>\n",
    "          <td style=\"padding:10px;\">MAE (Errore Medio Assoluto)</td>\n",
    "          <td style=\"padding:10px; text-align:right;\">941,922 voti (31.0%)</td>\n",
    "        </tr>\n",
    "        <tr>\n",
    "          <td style=\"padding:10px;\">RMSE (Errore Quadratico Medio)</td>\n",
    "          <td style=\"padding:10px; text-align:right;\">1,158,744 voti (38.2%)</td>\n",
    "        </tr>\n",
    "      </tbody>\n",
    "    </table>\n",
    "    <p style=\"margin-top:20px; font-size:12px; text-align:center; color:gray;\">\n",
    "      <i>Valutazione delle prestazioni del modello di regressione lineare</i><br>\n",
    "      <i>Data Science Project - Mehdi Zahid - UNIUD 2025</i>\n",
    "    </p>\n",
    "  </div>\n",
    "\n",
    "  <div style=\"flex: 1 1 400px; min-width: 300px; background: #FAFAFA; padding: 20px; border-radius: 12px; box-shadow: 0 4px 10px rgba(0,0,0,0.08);\">\n",
    "    <h3 style=\"margin-top: 0; color:#2C2C2C;\">Quanto è affidabile il modello?</h3>\n",
    "    <ul style=\"padding-left: 20px; line-height: 1.6;\">\n",
    "      <li>Spiega circa <strong>70% della varianza</strong> nei voti totali</li>\n",
    "      <li>Errore medio assoluto di <strong>~941k voti</strong></li>\n",
    "      <li>RMSE più alto (1.1M) penalizza gli errori maggiori</li>\n",
    "    </ul>\n",
    "    <p style=\"margin-top: 10px;\"><b>Conclusione:</b> modello buono. Adatto a stime generali, meno a previsioni precise per partiti minori.</p>\n",
    "  </div>\n",
    "\n",
    "</div>"
   ]
  },
  {
   "cell_type": "markdown",
   "id": "ead53037",
   "metadata": {
    "slideshow": {
     "slide_type": "slide"
    }
   },
   "source": [
    "<h3><b>Conclusioni</b></h3>\n",
    "<h4 class=\"sub\"><b>Cosa abbiamo scoperto dalle analisi?</b></h4>\n",
    "<br>\n",
    "<ol>\n",
    "    <b>\n",
    "    <li>L’attività su TikTok può predire i risultati elettorali?</li>\n",
    "    <ul style=\"list-style-type:none;\">\n",
    "        <li class=\"sub\">Sì. Le analisi mostrano correlazioni significative, in particolare con il numero di post.</li>\n",
    "    </ul>\n",
    "    <li>Qual è la metrica TikTok più predittiva?</li>\n",
    "    <ul style=\"list-style-type:none;\">\n",
    "        <li class=\"sub\">Il numero di post pubblicati è il miglior predittore dei voti.</li>\n",
    "    </ul>\n",
    "    <li>Quanto è affidabile il modello?</li>\n",
    "    <ul style=\"list-style-type:none;\">\n",
    "        <li class=\"sub\">Il modello lineare spiega oltre il 70% della varianza nei voti.</li>\n",
    "    </ul>\n",
    "    <li>Cosa limita l’efficienza della pipeline?</li>\n",
    "    <ul style=\"list-style-type:none;\">\n",
    "        <li class=\"sub\">La difficoltà nel riconoscere in automatico i politici dai loro username TikTok.</li>\n",
    "    </ul>\n",
    "    </b>\n",
    "</ol>"
   ]
  }
 ],
 "metadata": {
  "kernelspec": {
   "display_name": "Python 3 (ipykernel)",
   "language": "python",
   "name": "python3"
  },
  "language_info": {
   "codemirror_mode": {
    "name": "ipython",
    "version": 3
   },
   "file_extension": ".py",
   "mimetype": "text/x-python",
   "name": "python",
   "nbconvert_exporter": "python",
   "pygments_lexer": "ipython3",
   "version": "3.13.2"
  },
  "toc": {
   "base_numbering": 0
  }
 },
 "nbformat": 4,
 "nbformat_minor": 5
}
