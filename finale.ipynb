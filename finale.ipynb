{
 "cells": [
  {
   "cell_type": "code",
   "execution_count": 28,
   "id": "bfda4f56-bf0a-4f3b-a5f5-2400f7bfa6b0",
   "metadata": {},
   "outputs": [],
   "source": [
    "# 📦 Gestione dati\n",
    "%matplotlib inline\n",
    "import pandas as pd\n",
    "import numpy as np\n",
    "import warnings\n",
    "warnings.filterwarnings('ignore')\n",
    "\n",
    "# 📊 Visualizzazione\n",
    "import matplotlib.pyplot as plt\n",
    "import seaborn as sns\n",
    "import plotly.express as px\n",
    "import plotly.graph_objects as go\n",
    "from plotly.subplots import make_subplots\n",
    "\n",
    "# 🧠 Modelli e metriche\n",
    "from sklearn.linear_model import LinearRegression\n",
    "from sklearn.model_selection import train_test_split\n",
    "from sklearn.metrics import r2_score, mean_squared_error\n",
    "from scipy.stats import pearsonr\n",
    "from scipy import stats\n",
    "\n",
    "# 🧹 Preprocessing\n",
    "from sklearn.preprocessing import StandardScaler\n",
    "from sklearn.pipeline import Pipeline\n",
    "\n",
    "# 📆 Gestione date\n",
    "import datetime\n",
    "from datetime import datetime, timedelta\n",
    "\n",
    "# 🎨 Configurazione plot\n",
    "sns.set_theme(context='notebook', style='whitegrid', palette='tab10')\n",
    "plt.rcParams['figure.figsize'] = (12, 8)\n",
    "plt.rcParams['font.size'] = 10\n",
    "\n"
   ]
  },
  {
   "cell_type": "code",
   "execution_count": 29,
   "id": "db1e8c43",
   "metadata": {},
   "outputs": [
    {
     "name": "stdout",
     "output_type": "stream",
     "text": [
      "📂 Caricamento dati TikTok ed elettorali...\n",
      "📱 Dati TikTok caricati: 1744 record\n",
      "🗳️ Dati elettorali caricati: 117645 record\n",
      "✅ Caricamento dati completato!\n",
      "📊 Anteprima colonne dataset TikTok: ['video_id', 'video_timestamp', 'video_duration', 'video_locationcreated', 'video_diggcount', 'video_sharecount', 'video_commentcount', 'video_playcount', 'video_description', 'video_is_ad']...\n"
     ]
    }
   ],
   "source": [
    "# 📁 CARICAMENTO DATI\n",
    "\n",
    "print(\"📂 Caricamento dati TikTok ed elettorali...\")\n",
    "\n",
    "\n",
    "\n",
    "# Carica dati social TikTok con nomi reali mappati\n",
    "\n",
    "df_social_finale = pd.read_csv(\"src/output-data/social_data_con_nomi_reali.csv\", encoding=\"utf-8\")\n",
    "\n",
    "print(f\"📱 Dati TikTok caricati: {len(df_social_finale)} record\")\n",
    "\n",
    "\n",
    "\n",
    "# Carica dati elettorali (se esistono)\n",
    "\n",
    "try:\n",
    "\n",
    "    df_election = pd.read_csv(\"datasets/Politiche2022_Scrutini_Camera_Italia.csv\", encoding=\"utf-8\")\n",
    "\n",
    "    print(f\"🗳️ Dati elettorali caricati: {len(df_election)} record\")\n",
    "\n",
    "except FileNotFoundError:\n",
    "\n",
    "    print(\"⚠️ File dei risultati elettorali non trovato, verrà caricato in seguito se necessario\")\n",
    "\n",
    "\n",
    "\n",
    "# Alias per compatibilità con il codice esistente\n",
    "\n",
    "social_data_mapped = df_social_finale.copy()\n",
    "\n",
    "\n",
    "\n",
    "print(\"✅ Caricamento dati completato!\")\n",
    "\n",
    "print(f\"📊 Anteprima colonne dataset TikTok: {list(df_social_finale.columns)[:10]}...\")"
   ]
  },
  {
   "cell_type": "code",
   "execution_count": 4,
   "id": "78f4a6dc",
   "metadata": {},
   "outputs": [
    {
     "data": {
      "text/html": [
       "<link rel=\"stylesheet\" type=\"text/css\" href=\"style.css\">\n"
      ],
      "text/plain": [
       "<IPython.core.display.HTML object>"
      ]
     },
     "metadata": {},
     "output_type": "display_data"
    }
   ],
   "source": [
    "%%HTML\n",
    "<link rel=\"stylesheet\" type=\"text/css\" href=\"style.css\">"
   ]
  },
  {
   "cell_type": "markdown",
   "id": "e0311236",
   "metadata": {},
   "source": [
    "166932 — Mehdi Zahid\n",
    "\n",
    "# Analisi dell'impatto dell'attività TikTok sui risultati elettorali italiani del 2022\n",
    "\n",
    "**10/07/2025 — Università degli Studi di Udine**\n",
    "\n",
    "---\n",
    "\n",
    "## Il progetto in breve\n",
    "\n",
    "- **Analisi TikTok**: Studio dell'attività TikTok dei politici italiani durante le elezioni 2022\n",
    "- **Mappatura avanzata**: 74 politici mappati tramite fuzzy matching (username → nomi reali → partiti)\n",
    "- **Dataset finale**: 220 video TikTok analizzati con metriche complete di engagement\n",
    "- **Modello predittivo**: Correlazione significativa (r=0.833, p=0.010) tra attività TikTok e voti\n",
    "- **Risultato chiave**: 93.3% della varianza nei voti spiegata dal modello multivariato\n",
    "\n",
    "---\n",
    "\n",
    "<p align=\"center\">\n",
    "  <img src=\"img/tiktok-logo.png\" alt=\"TikTok logo\" width=\"100\" style=\"margin-right: 20px;\"/>\n",
    "  <img src=\"src/img/2022-speciale-elezioni-politiche.png\" alt=\"Elezioni\" width=\"200\"/>\n",
    "</p>\n",
    "\n",
    "---\n",
    "\n",
    "## Domande di ricerca risolte ✅\n",
    "\n",
    "1. **L'attività TikTok predice i risultati elettorali?**\n",
    "   → ✅ **SÌ**: Correlazione significativa r=0.833 (p<0.05)\n",
    "\n",
    "2. **Quale metrica TikTok è più predittiva dei voti?**\n",
    "   → ✅ **Numero di post**: R²=0.694 (69.4% varianza spiegata)\n",
    "\n",
    "3. **È possibile costruire un modello predittivo accurato?**\n",
    "   → ✅ **SÌ**: Modello multivariato con R²=0.933 (93.3% varianza spiegata)\n",
    "\n",
    "4. **Quali partiti hanno la strategia TikTok più efficace?**\n",
    "   → ✅ Identificati pattern di engagement per 8 partiti principali\n",
    "\n",
    "---\n",
    "\n",
    "## Metodologia e dati\n",
    "\n",
    "**Pipeline di analisi:**\n",
    "1. **Data Engineering**: Fuzzy matching username → politici → partiti (threshold 70%)\n",
    "2. **Dataset finale**: 220 video TikTok → 74 politici → 8 partiti ufficiali\n",
    "3. **Analisi statistica**: Correlazioni, regressione lineare, test di significatività\n",
    "4. **Validazione**: Test normalità residui, cross-validation, controlli qualità\n",
    "\n",
    "**Metriche TikTok analizzate:**\n",
    "- Numero di post pubblicati\n",
    "- Visualizzazioni totali (video_playcount)\n",
    "- Likes ricevuti (video_diggcount)  \n",
    "- Commenti generati (video_commentcount)\n",
    "- Condivisioni ottenute (video_sharecount)\n",
    "- Engagement complessivo (likes + commenti + shares)\n",
    "\n",
    "**Dati elettorali:**\n",
    "- Risultati ufficiali elezioni politiche italiane 2022\n",
    "- Voti per lista aggregati a livello nazionale\n",
    "- 8 partiti principali con presenza TikTok verificata"
   ]
  },
  {
   "cell_type": "code",
   "execution_count": 30,
   "id": "7bff524c",
   "metadata": {},
   "outputs": [
    {
     "name": "stdout",
     "output_type": "stream",
     "text": [
      "🎨 Creazione dashboard panoramica dati TikTok vs Elezioni 2022...\n"
     ]
    },
    {
     "data": {
      "application/vnd.plotly.v1+json": {
       "config": {
        "plotlyServerURL": "https://plot.ly"
       },
       "data": [
        {
         "delta": {
          "reference": 1500,
          "valueformat": "+0f"
         },
         "domain": {
          "x": [
           0,
           0.425
          ],
          "y": [
           0.575,
           1
          ]
         },
         "gauge": {
          "axis": {
           "range": [
            null,
            2000
           ]
          },
          "bar": {
           "color": "#FF0050"
          },
          "steps": [
           {
            "color": "lightgray",
            "range": [
             0,
             1000
            ]
           },
           {
            "color": "gray",
            "range": [
             1000,
             1500
            ]
           }
          ],
          "threshold": {
           "line": {
            "color": "#FE2C55",
            "width": 3
           },
           "thickness": 0.75,
           "value": 1744
          }
         },
         "mode": "number+delta+gauge",
         "number": {
          "font": {
           "color": "#FF0050",
           "size": 40
          }
         },
         "title": {
          "font": {
           "size": 12
          },
          "text": "Dataset Completo"
         },
         "type": "indicator",
         "value": 1744
        },
        {
         "delta": {
          "reference": 50,
          "valueformat": "+0f"
         },
         "domain": {
          "x": [
           0.575,
           1
          ],
          "y": [
           0.575,
           1
          ]
         },
         "gauge": {
          "axis": {
           "range": [
            null,
            100
           ]
          },
          "bar": {
           "color": "#25F4EE"
          },
          "steps": [
           {
            "color": "lightgray",
            "range": [
             0,
             30
            ]
           },
           {
            "color": "gray",
            "range": [
             30,
             60
            ]
           }
          ],
          "threshold": {
           "line": {
            "color": "#FF0050",
            "width": 3
           },
           "thickness": 0.75,
           "value": 74
          }
         },
         "mode": "number+delta+gauge",
         "number": {
          "font": {
           "color": "#25F4EE",
           "size": 40
          }
         },
         "title": {
          "font": {
           "size": 12
          },
          "text": "Fuzzy Matching"
         },
         "type": "indicator",
         "value": 74
        },
        {
         "delta": {
          "reference": 6,
          "valueformat": "+0f"
         },
         "domain": {
          "x": [
           0,
           0.425
          ],
          "y": [
           0,
           0.425
          ]
         },
         "gauge": {
          "axis": {
           "range": [
            null,
            15
           ]
          },
          "bar": {
           "color": "#FE2C55"
          },
          "steps": [
           {
            "color": "lightgray",
            "range": [
             0,
             5
            ]
           },
           {
            "color": "gray",
            "range": [
             5,
             10
            ]
           }
          ],
          "threshold": {
           "line": {
            "color": "#25F4EE",
            "width": 3
           },
           "thickness": 0.75,
           "value": 8
          }
         },
         "mode": "number+delta+gauge",
         "number": {
          "font": {
           "color": "#FE2C55",
           "size": 40
          }
         },
         "title": {
          "font": {
           "size": 12
          },
          "text": "Dataset Finale"
         },
         "type": "indicator",
         "value": 8
        },
        {
         "delta": {
          "reference": 100000,
          "valueformat": "+0f"
         },
         "domain": {
          "x": [
           0.575,
           1
          ],
          "y": [
           0,
           0.425
          ]
         },
         "gauge": {
          "axis": {
           "range": [
            null,
            130000
           ]
          },
          "bar": {
           "color": "#161823"
          },
          "steps": [
           {
            "color": "lightgray",
            "range": [
             0,
             80000
            ]
           },
           {
            "color": "gray",
            "range": [
             80000,
             110000
            ]
           }
          ],
          "threshold": {
           "line": {
            "color": "#FF0050",
            "width": 3
           },
           "thickness": 0.75,
           "value": 117645
          }
         },
         "mode": "number+delta+gauge",
         "number": {
          "font": {
           "color": "#161823",
           "size": 32
          }
         },
         "title": {
          "font": {
           "size": 12
          },
          "text": "Elezioni 2022"
         },
         "type": "indicator",
         "value": 117645
        }
       ],
       "layout": {
        "annotations": [
         {
          "font": {
           "color": "gray",
           "size": 11
          },
          "showarrow": false,
          "text": "📊 Analisi TikTok vs Elezioni 2022 - Mehdi Zahid | 1.744 video → 74 politici → 8 partiti",
          "x": 0.5,
          "xanchor": "center",
          "xref": "paper",
          "y": -0.08,
          "yanchor": "top",
          "yref": "paper"
         }
        ],
        "font": {
         "family": "Arial, sans-serif",
         "size": 10
        },
        "height": 500,
        "margin": {
         "b": 80,
         "l": 50,
         "r": 50,
         "t": 80
        },
        "paper_bgcolor": "white",
        "plot_bgcolor": "white",
        "showlegend": false,
        "template": {
         "data": {
          "bar": [
           {
            "error_x": {
             "color": "#2a3f5f"
            },
            "error_y": {
             "color": "#2a3f5f"
            },
            "marker": {
             "line": {
              "color": "#E5ECF6",
              "width": 0.5
             },
             "pattern": {
              "fillmode": "overlay",
              "size": 10,
              "solidity": 0.2
             }
            },
            "type": "bar"
           }
          ],
          "barpolar": [
           {
            "marker": {
             "line": {
              "color": "#E5ECF6",
              "width": 0.5
             },
             "pattern": {
              "fillmode": "overlay",
              "size": 10,
              "solidity": 0.2
             }
            },
            "type": "barpolar"
           }
          ],
          "carpet": [
           {
            "aaxis": {
             "endlinecolor": "#2a3f5f",
             "gridcolor": "white",
             "linecolor": "white",
             "minorgridcolor": "white",
             "startlinecolor": "#2a3f5f"
            },
            "baxis": {
             "endlinecolor": "#2a3f5f",
             "gridcolor": "white",
             "linecolor": "white",
             "minorgridcolor": "white",
             "startlinecolor": "#2a3f5f"
            },
            "type": "carpet"
           }
          ],
          "choropleth": [
           {
            "colorbar": {
             "outlinewidth": 0,
             "ticks": ""
            },
            "type": "choropleth"
           }
          ],
          "contour": [
           {
            "colorbar": {
             "outlinewidth": 0,
             "ticks": ""
            },
            "colorscale": [
             [
              0,
              "#0d0887"
             ],
             [
              0.1111111111111111,
              "#46039f"
             ],
             [
              0.2222222222222222,
              "#7201a8"
             ],
             [
              0.3333333333333333,
              "#9c179e"
             ],
             [
              0.4444444444444444,
              "#bd3786"
             ],
             [
              0.5555555555555556,
              "#d8576b"
             ],
             [
              0.6666666666666666,
              "#ed7953"
             ],
             [
              0.7777777777777778,
              "#fb9f3a"
             ],
             [
              0.8888888888888888,
              "#fdca26"
             ],
             [
              1,
              "#f0f921"
             ]
            ],
            "type": "contour"
           }
          ],
          "contourcarpet": [
           {
            "colorbar": {
             "outlinewidth": 0,
             "ticks": ""
            },
            "type": "contourcarpet"
           }
          ],
          "heatmap": [
           {
            "colorbar": {
             "outlinewidth": 0,
             "ticks": ""
            },
            "colorscale": [
             [
              0,
              "#0d0887"
             ],
             [
              0.1111111111111111,
              "#46039f"
             ],
             [
              0.2222222222222222,
              "#7201a8"
             ],
             [
              0.3333333333333333,
              "#9c179e"
             ],
             [
              0.4444444444444444,
              "#bd3786"
             ],
             [
              0.5555555555555556,
              "#d8576b"
             ],
             [
              0.6666666666666666,
              "#ed7953"
             ],
             [
              0.7777777777777778,
              "#fb9f3a"
             ],
             [
              0.8888888888888888,
              "#fdca26"
             ],
             [
              1,
              "#f0f921"
             ]
            ],
            "type": "heatmap"
           }
          ],
          "histogram": [
           {
            "marker": {
             "pattern": {
              "fillmode": "overlay",
              "size": 10,
              "solidity": 0.2
             }
            },
            "type": "histogram"
           }
          ],
          "histogram2d": [
           {
            "colorbar": {
             "outlinewidth": 0,
             "ticks": ""
            },
            "colorscale": [
             [
              0,
              "#0d0887"
             ],
             [
              0.1111111111111111,
              "#46039f"
             ],
             [
              0.2222222222222222,
              "#7201a8"
             ],
             [
              0.3333333333333333,
              "#9c179e"
             ],
             [
              0.4444444444444444,
              "#bd3786"
             ],
             [
              0.5555555555555556,
              "#d8576b"
             ],
             [
              0.6666666666666666,
              "#ed7953"
             ],
             [
              0.7777777777777778,
              "#fb9f3a"
             ],
             [
              0.8888888888888888,
              "#fdca26"
             ],
             [
              1,
              "#f0f921"
             ]
            ],
            "type": "histogram2d"
           }
          ],
          "histogram2dcontour": [
           {
            "colorbar": {
             "outlinewidth": 0,
             "ticks": ""
            },
            "colorscale": [
             [
              0,
              "#0d0887"
             ],
             [
              0.1111111111111111,
              "#46039f"
             ],
             [
              0.2222222222222222,
              "#7201a8"
             ],
             [
              0.3333333333333333,
              "#9c179e"
             ],
             [
              0.4444444444444444,
              "#bd3786"
             ],
             [
              0.5555555555555556,
              "#d8576b"
             ],
             [
              0.6666666666666666,
              "#ed7953"
             ],
             [
              0.7777777777777778,
              "#fb9f3a"
             ],
             [
              0.8888888888888888,
              "#fdca26"
             ],
             [
              1,
              "#f0f921"
             ]
            ],
            "type": "histogram2dcontour"
           }
          ],
          "mesh3d": [
           {
            "colorbar": {
             "outlinewidth": 0,
             "ticks": ""
            },
            "type": "mesh3d"
           }
          ],
          "parcoords": [
           {
            "line": {
             "colorbar": {
              "outlinewidth": 0,
              "ticks": ""
             }
            },
            "type": "parcoords"
           }
          ],
          "pie": [
           {
            "automargin": true,
            "type": "pie"
           }
          ],
          "scatter": [
           {
            "fillpattern": {
             "fillmode": "overlay",
             "size": 10,
             "solidity": 0.2
            },
            "type": "scatter"
           }
          ],
          "scatter3d": [
           {
            "line": {
             "colorbar": {
              "outlinewidth": 0,
              "ticks": ""
             }
            },
            "marker": {
             "colorbar": {
              "outlinewidth": 0,
              "ticks": ""
             }
            },
            "type": "scatter3d"
           }
          ],
          "scattercarpet": [
           {
            "marker": {
             "colorbar": {
              "outlinewidth": 0,
              "ticks": ""
             }
            },
            "type": "scattercarpet"
           }
          ],
          "scattergeo": [
           {
            "marker": {
             "colorbar": {
              "outlinewidth": 0,
              "ticks": ""
             }
            },
            "type": "scattergeo"
           }
          ],
          "scattergl": [
           {
            "marker": {
             "colorbar": {
              "outlinewidth": 0,
              "ticks": ""
             }
            },
            "type": "scattergl"
           }
          ],
          "scattermap": [
           {
            "marker": {
             "colorbar": {
              "outlinewidth": 0,
              "ticks": ""
             }
            },
            "type": "scattermap"
           }
          ],
          "scattermapbox": [
           {
            "marker": {
             "colorbar": {
              "outlinewidth": 0,
              "ticks": ""
             }
            },
            "type": "scattermapbox"
           }
          ],
          "scatterpolar": [
           {
            "marker": {
             "colorbar": {
              "outlinewidth": 0,
              "ticks": ""
             }
            },
            "type": "scatterpolar"
           }
          ],
          "scatterpolargl": [
           {
            "marker": {
             "colorbar": {
              "outlinewidth": 0,
              "ticks": ""
             }
            },
            "type": "scatterpolargl"
           }
          ],
          "scatterternary": [
           {
            "marker": {
             "colorbar": {
              "outlinewidth": 0,
              "ticks": ""
             }
            },
            "type": "scatterternary"
           }
          ],
          "surface": [
           {
            "colorbar": {
             "outlinewidth": 0,
             "ticks": ""
            },
            "colorscale": [
             [
              0,
              "#0d0887"
             ],
             [
              0.1111111111111111,
              "#46039f"
             ],
             [
              0.2222222222222222,
              "#7201a8"
             ],
             [
              0.3333333333333333,
              "#9c179e"
             ],
             [
              0.4444444444444444,
              "#bd3786"
             ],
             [
              0.5555555555555556,
              "#d8576b"
             ],
             [
              0.6666666666666666,
              "#ed7953"
             ],
             [
              0.7777777777777778,
              "#fb9f3a"
             ],
             [
              0.8888888888888888,
              "#fdca26"
             ],
             [
              1,
              "#f0f921"
             ]
            ],
            "type": "surface"
           }
          ],
          "table": [
           {
            "cells": {
             "fill": {
              "color": "#EBF0F8"
             },
             "line": {
              "color": "white"
             }
            },
            "header": {
             "fill": {
              "color": "#C8D4E3"
             },
             "line": {
              "color": "white"
             }
            },
            "type": "table"
           }
          ]
         },
         "layout": {
          "annotationdefaults": {
           "arrowcolor": "#2a3f5f",
           "arrowhead": 0,
           "arrowwidth": 1
          },
          "autotypenumbers": "strict",
          "coloraxis": {
           "colorbar": {
            "outlinewidth": 0,
            "ticks": ""
           }
          },
          "colorscale": {
           "diverging": [
            [
             0,
             "#8e0152"
            ],
            [
             0.1,
             "#c51b7d"
            ],
            [
             0.2,
             "#de77ae"
            ],
            [
             0.3,
             "#f1b6da"
            ],
            [
             0.4,
             "#fde0ef"
            ],
            [
             0.5,
             "#f7f7f7"
            ],
            [
             0.6,
             "#e6f5d0"
            ],
            [
             0.7,
             "#b8e186"
            ],
            [
             0.8,
             "#7fbc41"
            ],
            [
             0.9,
             "#4d9221"
            ],
            [
             1,
             "#276419"
            ]
           ],
           "sequential": [
            [
             0,
             "#0d0887"
            ],
            [
             0.1111111111111111,
             "#46039f"
            ],
            [
             0.2222222222222222,
             "#7201a8"
            ],
            [
             0.3333333333333333,
             "#9c179e"
            ],
            [
             0.4444444444444444,
             "#bd3786"
            ],
            [
             0.5555555555555556,
             "#d8576b"
            ],
            [
             0.6666666666666666,
             "#ed7953"
            ],
            [
             0.7777777777777778,
             "#fb9f3a"
            ],
            [
             0.8888888888888888,
             "#fdca26"
            ],
            [
             1,
             "#f0f921"
            ]
           ],
           "sequentialminus": [
            [
             0,
             "#0d0887"
            ],
            [
             0.1111111111111111,
             "#46039f"
            ],
            [
             0.2222222222222222,
             "#7201a8"
            ],
            [
             0.3333333333333333,
             "#9c179e"
            ],
            [
             0.4444444444444444,
             "#bd3786"
            ],
            [
             0.5555555555555556,
             "#d8576b"
            ],
            [
             0.6666666666666666,
             "#ed7953"
            ],
            [
             0.7777777777777778,
             "#fb9f3a"
            ],
            [
             0.8888888888888888,
             "#fdca26"
            ],
            [
             1,
             "#f0f921"
            ]
           ]
          },
          "colorway": [
           "#636efa",
           "#EF553B",
           "#00cc96",
           "#ab63fa",
           "#FFA15A",
           "#19d3f3",
           "#FF6692",
           "#B6E880",
           "#FF97FF",
           "#FECB52"
          ],
          "font": {
           "color": "#2a3f5f"
          },
          "geo": {
           "bgcolor": "white",
           "lakecolor": "white",
           "landcolor": "#E5ECF6",
           "showlakes": true,
           "showland": true,
           "subunitcolor": "white"
          },
          "hoverlabel": {
           "align": "left"
          },
          "hovermode": "closest",
          "mapbox": {
           "style": "light"
          },
          "paper_bgcolor": "white",
          "plot_bgcolor": "#E5ECF6",
          "polar": {
           "angularaxis": {
            "gridcolor": "white",
            "linecolor": "white",
            "ticks": ""
           },
           "bgcolor": "#E5ECF6",
           "radialaxis": {
            "gridcolor": "white",
            "linecolor": "white",
            "ticks": ""
           }
          },
          "scene": {
           "xaxis": {
            "backgroundcolor": "#E5ECF6",
            "gridcolor": "white",
            "gridwidth": 2,
            "linecolor": "white",
            "showbackground": true,
            "ticks": "",
            "zerolinecolor": "white"
           },
           "yaxis": {
            "backgroundcolor": "#E5ECF6",
            "gridcolor": "white",
            "gridwidth": 2,
            "linecolor": "white",
            "showbackground": true,
            "ticks": "",
            "zerolinecolor": "white"
           },
           "zaxis": {
            "backgroundcolor": "#E5ECF6",
            "gridcolor": "white",
            "gridwidth": 2,
            "linecolor": "white",
            "showbackground": true,
            "ticks": "",
            "zerolinecolor": "white"
           }
          },
          "shapedefaults": {
           "line": {
            "color": "#2a3f5f"
           }
          },
          "ternary": {
           "aaxis": {
            "gridcolor": "white",
            "linecolor": "white",
            "ticks": ""
           },
           "baxis": {
            "gridcolor": "white",
            "linecolor": "white",
            "ticks": ""
           },
           "bgcolor": "#E5ECF6",
           "caxis": {
            "gridcolor": "white",
            "linecolor": "white",
            "ticks": ""
           }
          },
          "title": {
           "x": 0.05
          },
          "xaxis": {
           "automargin": true,
           "gridcolor": "white",
           "linecolor": "white",
           "ticks": "",
           "title": {
            "standoff": 15
           },
           "zerolinecolor": "white",
           "zerolinewidth": 2
          },
          "yaxis": {
           "automargin": true,
           "gridcolor": "white",
           "linecolor": "white",
           "ticks": "",
           "title": {
            "standoff": 15
           },
           "zerolinecolor": "white",
           "zerolinewidth": 2
          }
         }
        },
        "title": {
         "font": {
          "color": "#161823",
          "size": 20
         },
         "text": "🎬 Dashboard TikTok Elections 2022 - Panoramica Dati",
         "x": 0.5,
         "xanchor": "center"
        },
        "width": 800
       }
      }
     },
     "metadata": {},
     "output_type": "display_data"
    },
    {
     "name": "stdout",
     "output_type": "stream",
     "text": [
      "✅ Dashboard panoramica dati completata!\n"
     ]
    }
   ],
   "source": [
    "# 📊 DASHBOARD PANORAMICA DATI - TikTok Themed\n",
    "print(\"🎨 Creazione dashboard panoramica dati TikTok vs Elezioni 2022...\")\n",
    "\n",
    "# Definisco colori TikTok ufficiali\n",
    "TIKTOK_COLORS = {\n",
    "    'primary': '#FF0050',    # Rosa/Rosso TikTok\n",
    "    'secondary': '#25F4EE',  # Cyan TikTok\n",
    "    'accent': '#FE2C55',     # Rosa acceso\n",
    "    'dark': '#161823',       # Nero TikTok\n",
    "    'light': '#FFFFFF'\n",
    "}\n",
    "\n",
    "# Creo figura con 4 indicatori in 2x2\n",
    "fig = make_subplots(\n",
    "    rows=2, cols=2,\n",
    "    specs=[[{\"type\": \"indicator\"}, {\"type\": \"indicator\"}],\n",
    "           [{\"type\": \"indicator\"}, {\"type\": \"indicator\"}]],\n",
    "    vertical_spacing=0.15,  # Aumentato per evitare sovrapposizioni\n",
    "    horizontal_spacing=0.15\n",
    ")\n",
    "\n",
    "# Indicatore 1: Video TikTok\n",
    "fig.add_trace(go.Indicator(\n",
    "    mode=\"number+delta+gauge\",\n",
    "    value=1744,\n",
    "    title={\"text\": \"Dataset Completo\", \"font\": {\"size\": 12}},\n",
    "    number={'font': {'size': 40, 'color': TIKTOK_COLORS['primary']}},  # Ridotto ulteriormente\n",
    "    delta={'reference': 1500, 'valueformat': '+0f'},\n",
    "    gauge={\n",
    "        'axis': {'range': [None, 2000]},\n",
    "        'bar': {'color': TIKTOK_COLORS['primary']},\n",
    "        'steps': [\n",
    "            {'range': [0, 1000], 'color': \"lightgray\"},\n",
    "            {'range': [1000, 1500], 'color': \"gray\"}\n",
    "        ],\n",
    "        'threshold': {\n",
    "            'line': {'color': TIKTOK_COLORS['accent'], 'width': 3},\n",
    "            'thickness': 0.75,\n",
    "            'value': 1744\n",
    "        }\n",
    "    }\n",
    "), row=1, col=1)\n",
    "\n",
    "# Indicatore 2: Politici mappati\n",
    "fig.add_trace(go.Indicator(\n",
    "    mode=\"number+delta+gauge\",\n",
    "    value=74,\n",
    "    title={\"text\": \"Fuzzy Matching\", \"font\": {\"size\": 12}},\n",
    "    number={'font': {'size': 40, 'color': TIKTOK_COLORS['secondary']}},  # Ridotto ulteriormente\n",
    "    delta={'reference': 50, 'valueformat': '+0f'},\n",
    "    gauge={\n",
    "        'axis': {'range': [None, 100]},\n",
    "        'bar': {'color': TIKTOK_COLORS['secondary']},\n",
    "        'steps': [\n",
    "            {'range': [0, 30], 'color': \"lightgray\"},\n",
    "            {'range': [30, 60], 'color': \"gray\"}\n",
    "        ],\n",
    "        'threshold': {\n",
    "            'line': {'color': TIKTOK_COLORS['primary'], 'width': 3},\n",
    "            'thickness': 0.75,\n",
    "            'value': 74\n",
    "        }\n",
    "    }\n",
    "), row=1, col=2)\n",
    "\n",
    "# Indicatore 3: Partiti ufficiali\n",
    "fig.add_trace(go.Indicator(\n",
    "    mode=\"number+delta+gauge\",\n",
    "    value=8,\n",
    "    title={\"text\": \"Dataset Finale\", \"font\": {\"size\": 12}},\n",
    "    number={'font': {'size': 40, 'color': TIKTOK_COLORS['accent']}},  # Ridotto ulteriormente\n",
    "    delta={'reference': 6, 'valueformat': '+0f'},\n",
    "    gauge={\n",
    "        'axis': {'range': [None, 15]},\n",
    "        'bar': {'color': TIKTOK_COLORS['accent']},\n",
    "        'steps': [\n",
    "            {'range': [0, 5], 'color': \"lightgray\"},\n",
    "            {'range': [5, 10], 'color': \"gray\"}\n",
    "        ],\n",
    "        'threshold': {\n",
    "            'line': {'color': TIKTOK_COLORS['secondary'], 'width': 3},\n",
    "            'thickness': 0.75,\n",
    "            'value': 8\n",
    "        }\n",
    "    }\n",
    "), row=2, col=1)\n",
    "\n",
    "# Indicatore 4: Sezioni elettorali\n",
    "fig.add_trace(go.Indicator(\n",
    "    mode=\"number+delta+gauge\",\n",
    "    value=117645,\n",
    "    title={\"text\": \"Elezioni 2022\", \"font\": {\"size\": 12}},\n",
    "    number={'font': {'size': 32, 'color': TIKTOK_COLORS['dark']}},  # Ridotto ulteriormente\n",
    "    delta={'reference': 100000, 'valueformat': '+0f'},\n",
    "    gauge={\n",
    "        'axis': {'range': [None, 130000]},\n",
    "        'bar': {'color': TIKTOK_COLORS['dark']},\n",
    "        'steps': [\n",
    "            {'range': [0, 80000], 'color': \"lightgray\"},\n",
    "            {'range': [80000, 110000], 'color': \"gray\"}\n",
    "        ],\n",
    "        'threshold': {\n",
    "            'line': {'color': TIKTOK_COLORS['primary'], 'width': 3},\n",
    "            'thickness': 0.75,\n",
    "            'value': 117645\n",
    "        }\n",
    "    }\n",
    "), row=2, col=2)\n",
    "\n",
    "# Aggiorno layout globale con dimensioni ridotte\n",
    "fig.update_layout(\n",
    "    title={\n",
    "        'text': \"🎬 Dashboard TikTok Elections 2022 - Panoramica Dati\",\n",
    "        'x': 0.5,\n",
    "        'xanchor': 'center',\n",
    "        'font': {'size': 20, 'color': TIKTOK_COLORS['dark']}\n",
    "    },\n",
    "    height=500,  # Ridotto da 700 a 500\n",
    "    width=800,   # Larghezza fissa per controllo dimensioni\n",
    "    showlegend=False,\n",
    "    paper_bgcolor='white',\n",
    "    plot_bgcolor='white',\n",
    "    font={'family': 'Arial, sans-serif', 'size': 10},  # Font generale più piccolo\n",
    "    margin=dict(l=50, r=50, t=80, b=80)  # Margini ridotti\n",
    ")\n",
    "\n",
    "# Aggiungo annotazione footer compatta\n",
    "fig.add_annotation(\n",
    "    text=\"📊 Analisi TikTok vs Elezioni 2022 - Mehdi Zahid | 1.744 video → 74 politici → 8 partiti\",\n",
    "    xref=\"paper\", yref=\"paper\",\n",
    "    x=0.5, y=-0.08,\n",
    "    xanchor='center', yanchor='top',\n",
    "    font={'size': 11, 'color': 'gray'},\n",
    "    showarrow=False\n",
    ")\n",
    "\n",
    "fig.show()\n",
    "print(\"✅ Dashboard panoramica dati completata!\")"
   ]
  },
  {
   "cell_type": "code",
   "execution_count": null,
   "id": "b4ad9a56",
   "metadata": {},
   "outputs": [],
   "source": []
  }
 ],
 "metadata": {
  "kernelspec": {
   "display_name": "venv",
   "language": "python",
   "name": "python3"
  },
  "language_info": {
   "codemirror_mode": {
    "name": "ipython",
    "version": 3
   },
   "file_extension": ".py",
   "mimetype": "text/x-python",
   "name": "python",
   "nbconvert_exporter": "python",
   "pygments_lexer": "ipython3",
   "version": "3.13.2"
  }
 },
 "nbformat": 4,
 "nbformat_minor": 5
}
